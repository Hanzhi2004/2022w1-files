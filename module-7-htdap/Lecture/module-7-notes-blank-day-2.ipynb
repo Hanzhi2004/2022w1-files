{
 "cells": [
  {
   "cell_type": "markdown",
   "metadata": {},
   "source": [
    "## Analysing VPD Crime Data\n",
    "\n",
    "We've uploaded a tiny portion of the crime data shared by the [Vancouver Police Department](https://vancouver.ca/police/)'s [Open Data initiative](https://geodash.vpd.ca/opendata/). The complete file has well over half a million rows. The portion we uploaded is all crimes labelled as \"break and enter\" (in two variants: commercial and residential) and \"theft of\" (in two variants: vehicle and bicycle) in 2018.\n",
    "\n",
    "You can see our information file in this directory named `crimedata_subset_bne_theft_of_bike_veh_2018.csv`. You can also find the license for this information and a PDF file from VPD describing the information source.\n",
    "\n",
    "Let's see if we can answer the question: At what time of day does crime of various types peak in Vancouver?\n",
    "\n",
    "We'll **start from the project final submission template** to get good practice both on using HtDAP and preparing for the project! (We've edited this slightly to note places where we'll deviate from the project.)"
   ]
  },
  {
   "cell_type": "markdown",
   "metadata": {},
   "source": [
    "### Step 1a: Planning \n",
    "#### Identify the information in the file your program will read\n",
    "\n",
    "For each crime, the information is:\n",
    "* type of crime\n",
    "* date\n",
    "* time\n",
    "* hundred block (address)\n",
    "* neighbourhood\n",
    "* latitude\n",
    "* longtitude\n",
    "\n",
    "There are an arbitrary number of crimes in the file"
   ]
  },
  {
   "cell_type": "markdown",
   "metadata": {},
   "source": [
    "### Step 1b: Planning \n",
    "#### Write a description of what your program will produce\n",
    "\n",
    "You must brainstorm at least three ideas for graphs or charts that your program could produce and choose the one that you'd like to work on. You can choose between a line chart, histogram, bar chart, scatterplot, or pie chart. *Note: we might focus on non-graphs for now, since we're really studying HtDAP rather than the project.*\n",
    "\n",
    "* Most common type of crime\n",
    "* The neighbourhood that had the most crimes of these types\n",
    "* The month with the most bike thefts\n",
    "* What time is most common for a business to be broken into?\n",
    "* When do crimes occur over the hours of the day for the various types of crime."
   ]
  },
  {
   "cell_type": "markdown",
   "metadata": {},
   "source": [
    "### Step 1c: Planning \n",
    "#### Write or draw examples of what your program will produce\n",
    "\n",
    "For the project you must include an image that shows what your chart or plot will look like. You can insert an image using the Insert Image command near the bottom of the Edit menu. \n",
    "\n",
    "For today, since we are not producing a graph or chart, we'll write an expect for our example.\n",
    "\n",
    "\n"
   ]
  },
  {
   "cell_type": "markdown",
   "metadata": {},
   "source": [
    "### Step 2a: Building\n",
    "#### Design data definitions\n",
    "\n",
    "Double click this cell to edit.\n",
    "\n",
    "Before you design data definitions in the code cell below, you must explicitly document here which information in the file you chose to represent and why that information is crucial to the chart or graph that you'll produce when you complete step 2c. *Note: we'll skip the \"chart or graph\" part!*"
   ]
  },
  {
   "cell_type": "code",
   "execution_count": 6,
   "metadata": {},
   "outputs": [],
   "source": [
    "from cs103 import *\n",
    "from typing import NamedTuple, List\n",
    "from enum import Enum\n",
    "import csv\n",
    "\n",
    "##################\n",
    "# Data Definitions\n",
    "\n",
    "CrimeType = Enum('CrimeType', ['bec', 'ber', 'tv', 'tb'])\n",
    "# interp. a type of crime which is either break and enter commerical ('bec'),\n",
    "#         break and enter residential ('ber'), theft of vehicle ('tv'), \n",
    "#         or theft of bicycle ('tb')\n",
    "# examples are redundant for enumerations\n",
    "\n",
    "@typecheck\n",
    "# template based on one of (4 cases)\n",
    "def fn-for-crime-type(ct: CrimeType) -> ...:\n",
    "    if ct == CrimeType.bec:\n",
    "        return ...\n",
    "    elif ct == CrimeType.ber:\n",
    "        return ...\n",
    "    elif ct == CrimeType.tv:\n",
    "        return ...\n",
    "    elif ct == CrimeType.tb:\n",
    "        return ...\n",
    "\n",
    "CrimeData = NamedTuple('CrimeData', [('type', CrimeType),\n",
    "                                     ('time', int)]) # in range [0, 23]\n",
    "# interp. crime data including it's type and the time (hour of the day)\n",
    "#         it occurred\n",
    "CD1 = CrimeData(CrimeType.tb, 0)\n",
    "CD2 = CrimeData(CrimeType.tv, 11)\n",
    "\n",
    "@typecheck\n",
    "# template based on compound and the reference rule\n",
    "def fn_for_crime_data(cd: CrimeData) -> ...:\n",
    "    return ...(fn_for_crime_type(cd.type),\n",
    "               cd.time)\n",
    "\n",
    "\n",
    "# List[CrimeData]\n",
    "# interp. a list of crime data\n",
    "\n",
    "LOC0 = []\n",
    "LOC1 = [CD1, CD2]\n",
    "\n",
    "@typecheck\n",
    "# template based on arbitrary-sized and the reference rule\n",
    "def fn_for_loc(locd: List[CrimeData]) -> ...:\n",
    "    # description of the acc\n",
    "    acc = ... # type: ...\n",
    "    for cd in locd:\n",
    "        acc = ...(acc, fn_for_crime_data(cd))\n",
    "    return ...(acc)\n",
    "\n"
   ]
  },
  {
   "cell_type": "code",
   "execution_count": 7,
   "metadata": {},
   "outputs": [],
   "source": []
  },
  {
   "cell_type": "markdown",
   "metadata": {},
   "source": [
    "### Step 2b: Building\n",
    "#### Design a function to read the information and store it as data in your program\n",
    "\n",
    "We've split this off into a separate cell so we can finish this in our first class in Module 7!"
   ]
  },
  {
   "cell_type": "code",
   "execution_count": 24,
   "metadata": {},
   "outputs": [
    {
     "name": "stdout",
     "output_type": "stream",
     "text": [
      "\u001b[92m6 of 6 tests passed\u001b[0m\n"
     ]
    }
   ],
   "source": [
    "@typecheck\n",
    "def read(filename: str) -> List[CrimeData]:\n",
    "    \"\"\"    \n",
    "    reads information from the specified file and returns a list\n",
    "    of crime data\n",
    "    \"\"\"\n",
    "    #return []  #stub\n",
    "    # Template from HtDAP\n",
    "    # loc contains the result so far\n",
    "    loc = [] # type: List[CrimeData]\n",
    "\n",
    "    with open(filename) as csvfile:\n",
    "        \n",
    "        reader = csv.reader(csvfile)\n",
    "        next(reader) # skip header line\n",
    "\n",
    "        for row in reader:\n",
    "            # you may not need to store all the rows, and you may need\n",
    "            # to convert some of the strings to other types\n",
    "            c = CrimeData(parse_crime_type(row[0]), parse_int(row[4]))\n",
    "            loc.append(c)\n",
    "    \n",
    "    return loc\n",
    "\n",
    "@typecheck\n",
    "def parse_crime_type(ct: str) -> CrimeType:\n",
    "    \"\"\"\n",
    "    convert ct to a CrimeType\n",
    "    \"\"\"\n",
    "    if ct == \"Break and Enter Commercial\":\n",
    "        return CrimeType.bec\n",
    "    elif ct == \"Break and Enter Residential\":\n",
    "        return CrimeType.ber\n",
    "    elif ct == \"Break and Enter Residential/Other\":\n",
    "        return CrimeType.ber\n",
    "    elif ct == \"Theft of Vehicle\":\n",
    "        return CrimeType.tv\n",
    "    elif ct == \"Theft of Bicycle\":\n",
    "        return CrimeType.tb\n",
    "\n",
    "start_testing()\n",
    "\n",
    "# Examples and tests for read\n",
    "expect(read(\"crimedata_subset_bne_theft_of_bike_veh_2018_test1.csv\"), \n",
    "            [CrimeData(CrimeType.bec, 6),\n",
    "             CrimeData(CrimeType.bec, 18),\n",
    "             CrimeData(CrimeType.bec, 0)])\n",
    "expect(read(\"crimedata_subset_bne_theft_of_bike_veh_2018_test2.csv\"), \n",
    "            [CrimeData(CrimeType.ber, 12),\n",
    "             CrimeData(CrimeType.tb, 8),\n",
    "             CrimeData(CrimeType.tv, 15)])\n",
    "\n",
    "expect(parse_crime_type(\"Break and Enter Commercial\"), CrimeType.bec)\n",
    "expect(parse_crime_type(\"Break and Enter Residential\"), CrimeType.ber)\n",
    "expect(parse_crime_type(\"Theft of Vehicle\"), CrimeType.tv)\n",
    "expect(parse_crime_type(\"Theft of Bicycle\"), CrimeType.tb)\n",
    "\n",
    "summary()"
   ]
  },
  {
   "cell_type": "markdown",
   "metadata": {},
   "source": [
    "### Step 2c: Building\n",
    "#### Design functions to analyze the data\n",
    "\n",
    "Complete these steps in the code cell below. You will likely want to rename the analyze function so that the function name describes what your analysis function does.\n",
    "\n",
    "\n",
    "**NOTE:** To make this manageable in class, we might provide some finished helper functions."
   ]
  },
  {
   "cell_type": "code",
   "execution_count": 9,
   "metadata": {},
   "outputs": [
    {
     "ename": "NameError",
     "evalue": "name 'Consumed' is not defined",
     "output_type": "error",
     "traceback": [
      "\u001b[0;31m---------------------------------------------------------------------------\u001b[0m",
      "\u001b[0;31mNameError\u001b[0m                                 Traceback (most recent call last)",
      "\u001b[0;32m/tmp/ipykernel_311/2326585163.py\u001b[0m in \u001b[0;36m<module>\u001b[0;34m\u001b[0m\n\u001b[1;32m     14\u001b[0m \u001b[0;34m\u001b[0m\u001b[0m\n\u001b[1;32m     15\u001b[0m \u001b[0;34m@\u001b[0m\u001b[0mtypecheck\u001b[0m\u001b[0;34m\u001b[0m\u001b[0;34m\u001b[0m\u001b[0m\n\u001b[0;32m---> 16\u001b[0;31m \u001b[0;32mdef\u001b[0m \u001b[0manalyze\u001b[0m\u001b[0;34m(\u001b[0m\u001b[0mloc\u001b[0m\u001b[0;34m:\u001b[0m \u001b[0mList\u001b[0m\u001b[0;34m[\u001b[0m\u001b[0mConsumed\u001b[0m\u001b[0;34m]\u001b[0m\u001b[0;34m)\u001b[0m \u001b[0;34m->\u001b[0m \u001b[0mProduced\u001b[0m\u001b[0;34m:\u001b[0m\u001b[0;34m\u001b[0m\u001b[0;34m\u001b[0m\u001b[0m\n\u001b[0m\u001b[1;32m     17\u001b[0m     \"\"\" \n\u001b[1;32m     18\u001b[0m     \u001b[0;34m...\u001b[0m\u001b[0;34m\u001b[0m\u001b[0;34m\u001b[0m\u001b[0m\n",
      "\u001b[0;31mNameError\u001b[0m: name 'Consumed' is not defined"
     ]
    }
   ],
   "source": [
    "###########\n",
    "# Functions\n",
    "\n",
    "@typecheck\n",
    "def main(filename: str) -> ...:\n",
    "    \"\"\"\n",
    "    Reads the file from given filename, analyzes the data, returns the result \n",
    "    \"\"\"\n",
    "    # Template from HtDAP, based on function composition \n",
    "    return analyze(read(filename)) \n",
    "    \n",
    "    \n",
    "\n",
    "\n",
    "@typecheck\n",
    "def analyze(loc: List[Consumed]) -> Produced: \n",
    "    \"\"\" \n",
    "    ... \n",
    "    \"\"\" \n",
    "\n",
    "    return ...\n",
    "\n",
    "\n",
    "start_testing()\n",
    "\n",
    "# Examples and tests for main\n",
    "expect(..., ...)\n",
    "\n",
    "summary()\n",
    "\n",
    "start_testing()\n",
    "\n",
    "# Examples and tests for analyze \n",
    "expect(..., ...) \n",
    "\n",
    "summary()"
   ]
  }
 ],
 "metadata": {
  "kernelspec": {
   "display_name": "Python 3 (ipykernel)",
   "language": "python",
   "name": "python3"
  },
  "language_info": {
   "codemirror_mode": {
    "name": "ipython",
    "version": 3
   },
   "file_extension": ".py",
   "mimetype": "text/x-python",
   "name": "python",
   "nbconvert_exporter": "python",
   "pygments_lexer": "ipython3",
   "version": "3.9.7"
  }
 },
 "nbformat": 4,
 "nbformat_minor": 4
}
