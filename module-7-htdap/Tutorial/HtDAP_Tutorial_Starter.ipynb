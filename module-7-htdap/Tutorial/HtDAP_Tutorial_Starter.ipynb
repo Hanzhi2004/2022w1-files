{
 "cells": [
  {
   "cell_type": "code",
   "execution_count": null,
   "metadata": {},
   "outputs": [],
   "source": [
    "from cs103 import *"
   ]
  },
  {
   "cell_type": "markdown",
   "metadata": {},
   "source": [
    "# Tutorial Starter - Analysis Programs\n",
    "\n",
    "## Pre-Tutorial Work\n",
    "\n",
    "None this week"
   ]
  },
  {
   "cell_type": "markdown",
   "metadata": {},
   "source": [
    "## Overview\n",
    "\n",
    "We are again continuing to use the file containing information about government grants.\n",
    "\n",
    "Take a look at the included file called `report-government-grant-year-to-date.csv` to see how it is structured. Two files containing small subsets of this information have also been  provided for testing purposes (`report-government-grant-year-to-date-test1.csv` and `report-government-grant-year-to-date-test2.csv`). You can find the original information [here](https://catalogue.data.gov.bc.ca/dataset/gaming-grants-paid-to-community-organizations/resource/7281e8ca-b649-4af9-b812-2a3e0bf8e4be)\n",
    "\n",
    "Now that you have looked at the file, we'll complete the planning steps of the HtDAP recipe. "
   ]
  },
  {
   "cell_type": "markdown",
   "metadata": {},
   "source": [
    "#### Step 1a\n",
    "The file contains information about BC community gaming grants between April 1, 2017 and July 13, 2018. For each grant, the city, organization name, grant type, grant area, grant subarea and amount (in CAD) is included."
   ]
  },
  {
   "cell_type": "markdown",
   "metadata": {},
   "source": [
    "#### Step 1b\n",
    "\n",
    "Now, here are some ideas of what a program operating on this information might produce.\n",
    "\n",
    "We might find the city that received the most grant money.\n",
    "\n",
    "We might find the largest grant.\n",
    "\n",
    "We might find the area that received the largest number of grants.\n",
    "\n",
    "We might find the area that received the largest single grant.\n",
    "\n",
    "We might find the total amount of grant money allocated to the city of Vancouver.\n",
    "\n",
    "We might find the average amount of grant money allocated to the grant area Sport.\n",
    "\n",
    "**We are going to focus on the last idea and find the average amount of grant money allocated to the grant area Sport.** We will round this average to 2 decimal digits."
   ]
  },
  {
   "cell_type": "markdown",
   "metadata": {},
   "source": [
    "#### Step 1c\n",
    "Here's an  example that shows the kind of output we expect from this program:\n",
    "```python\n",
    "expect(main('report-government-grant-year-to-date.csv'), 12450.55)\n",
    "```\n"
   ]
  },
  {
   "cell_type": "markdown",
   "metadata": {},
   "source": [
    "## Problem 1\n",
    "\n",
    "Now it is time to start building the program. Using the planning steps completed above, determine the information that you will need to represent in your program as data. \n",
    "\n",
    "You must clearly state which pieces of information you will choose to repesent. You should refer to the previous data definitions that we've used, but **only store the information that you'll need to solve this particular problem**. **However**, we want it to be easy **without changing the `read` function or data definitions** to switch to averaging grant money from another city. (This may impact what you store as data!)\n",
    "\n",
    "Then complete the design of data definition(s) to represent that information. "
   ]
  },
  {
   "cell_type": "code",
   "execution_count": null,
   "metadata": {},
   "outputs": [],
   "source": [
    "# your solution goes here"
   ]
  },
  {
   "cell_type": "markdown",
   "metadata": {},
   "source": [
    "## Problem 2a\n",
    "\n",
    "Once you have your data definition(s) from Problem 1, design a function that reads\n",
    "the information from the file and stores it as data in your program. \n",
    "\n",
    "You should begin by copying the template from the HtDAP page, then complete the \n",
    "design of the `main` and `read` functions. When testing your functions, you may use the testing files called `report-government-grant-year-to-date-test1.csv` and `report-government-grant-year-to-date-test2.csv`."
   ]
  },
  {
   "cell_type": "code",
   "execution_count": null,
   "metadata": {},
   "outputs": [],
   "source": [
    "import csv\n",
    "\n",
    "# your solution goes here"
   ]
  },
  {
   "cell_type": "markdown",
   "metadata": {
    "collapsed": true
   },
   "source": [
    "## Problem 2b\n",
    "\n",
    "To finish your program, complete the design of the analysis function(s). For this particular problem, find the average amount of grant money allocated to the area Sport.\n",
    "\n",
    "Think about your data definitions and the helper rules to determine how many helper functions you will need to write when designing this function. "
   ]
  },
  {
   "cell_type": "code",
   "execution_count": null,
   "metadata": {},
   "outputs": [],
   "source": [
    "# RETURN to the cell above to complete your design of the analysis functions.\n",
    "# Do not design them here."
   ]
  },
  {
   "cell_type": "code",
   "execution_count": null,
   "metadata": {
    "deletable": false,
    "editable": false
   },
   "outputs": [],
   "source": [
    "# NOTE: You should not be able to edit this cell. Just run it to start the process of submiting your code.\n",
    "from cs103 import submit\n",
    "\n",
    "COURSE = 101855\n",
    "ASSIGNMENT = 1291649\n",
    "\n",
    "submit(COURSE, ASSIGNMENT)\n",
    "\n",
    "# If your submission fails, SUBMIT ANYWAY by downloading your files and uploading them to \n",
    "# Canvas. You can learn how on the page \"How to submit your Jupyter notebook\" on our \n",
    "# Canvas site."
   ]
  }
 ],
 "metadata": {
  "kernelspec": {
   "display_name": "Python 3 (ipykernel)",
   "language": "python",
   "name": "python3"
  },
  "language_info": {
   "codemirror_mode": {
    "name": "ipython",
    "version": 3
   },
   "file_extension": ".py",
   "mimetype": "text/x-python",
   "name": "python",
   "nbconvert_exporter": "python",
   "pygments_lexer": "ipython3",
   "version": "3.9.13"
  }
 },
 "nbformat": 4,
 "nbformat_minor": 2
}
