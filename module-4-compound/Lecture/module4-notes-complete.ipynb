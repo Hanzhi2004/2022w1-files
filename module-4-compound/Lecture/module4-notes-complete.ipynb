{
 "cells": [
  {
   "cell_type": "code",
   "execution_count": 2,
   "metadata": {},
   "outputs": [],
   "source": [
    "from cs103 import *"
   ]
  },
  {
   "cell_type": "markdown",
   "metadata": {},
   "source": [
    "## Module 4: Information Composed of Many Pieces and Compound Data "
   ]
  },
  {
   "cell_type": "markdown",
   "metadata": {},
   "source": [
    "### Games\n",
    "\n",
    "**Problem:** You're designing software for [boardgamegeek.com](https://boardgamegeek.com/). Design a data\n",
    "definition for a game. Your users need to record the name of the game,\n",
    "the name of the designer, the number of players, and the\n",
    "recommended minimum age to play."
   ]
  },
  {
   "cell_type": "code",
   "execution_count": 3,
   "metadata": {},
   "outputs": [],
   "source": [
    "from typing import NamedTuple\n",
    "\n",
    "Game = NamedTuple('Game', [('name', str),\n",
    "                           ('designer', str),\n",
    "                           ('min_num_players', int), # in range[1, ...]\n",
    "                           ('max_num_players', int), # in range[min_num_players, ...]\n",
    "                           ('min_age', int)]) # in range[0, ...]\n",
    "# interp. a game with its name, name of the game designer, number of \n",
    "#         players (as a range between min_num_players and max_num_players)\n",
    "#         and the minimum age to play\n",
    "\n",
    "G_GRAB_YOUR_BREAKFAST = Game('Grab Your Breakfast',\n",
    "                             'Lim Ming Liang',\n",
    "                             2, 4, 6)\n",
    "G_MYSTERIUM = Game('Mysterium', 'Oleksandr Nevskiy', 2, 7, 10)\n",
    "G_CARCASSONNE = Game('Carcassonne', 'Klaus-Jurgen Wrede', 2, 5, 7)\n",
    "\n",
    "# template based on compound (5 fields)\n",
    "@typecheck\n",
    "def fn_for_game(g: Game) -> ...:\n",
    "    return ...(g.name,             # str\n",
    "               g.designer,         # str\n",
    "               g.min_num_players,  # int in range[1, ...]\n",
    "               g.max_num_players,  # int in range[min_num_players, ...]\n",
    "               g.min_age)          # int in range[0, ...]"
   ]
  },
  {
   "cell_type": "markdown",
   "metadata": {},
   "source": [
    "**Problem:** Design a function to determine if it is possible to play a game, when you invite a particular number of friends over."
   ]
  },
  {
   "cell_type": "code",
   "execution_count": 5,
   "metadata": {},
   "outputs": [
    {
     "name": "stdout",
     "output_type": "stream",
     "text": [
      "\u001b[92m7 of 7 tests passed\u001b[0m\n"
     ]
    }
   ],
   "source": [
    "@typecheck\n",
    "def can_play(g: Game, num_players: int) -> bool:\n",
    "    \"\"\"\n",
    "    return True if g can be played by num_players and False otherwise\n",
    "    \"\"\"\n",
    "    #return True\n",
    "    # template from Game with additional parameter\n",
    "    return num_players >= g.min_num_players and num_players <= g.max_num_players\n",
    "\n",
    "start_testing()\n",
    "expect(can_play(G_GRAB_YOUR_BREAKFAST, 1), False)\n",
    "expect(can_play(G_GRAB_YOUR_BREAKFAST, 2), True)\n",
    "expect(can_play(G_GRAB_YOUR_BREAKFAST, 4), True)\n",
    "expect(can_play(G_GRAB_YOUR_BREAKFAST, 3), True)\n",
    "expect(can_play(G_GRAB_YOUR_BREAKFAST, 5), False)\n",
    "expect(can_play(G_MYSTERIUM, 4), True)\n",
    "expect(can_play(G_MYSTERIUM, 8), False)\n",
    "summary()\n"
   ]
  },
  {
   "cell_type": "markdown",
   "metadata": {},
   "source": [
    "**Problem**: Design a function that takes in two games and determines which game can be played by a younger audience."
   ]
  },
  {
   "cell_type": "code",
   "execution_count": 8,
   "metadata": {},
   "outputs": [
    {
     "name": "stdout",
     "output_type": "stream",
     "text": [
      "\u001b[92m4 of 4 tests passed\u001b[0m\n"
     ]
    }
   ],
   "source": [
    "@typecheck\n",
    "def appropriate_for_younger(g1: Game, g2: Game) -> Game:\n",
    "    \"\"\"\n",
    "    return the game that can be played by a younger audience,\n",
    "    if the minimum age is the same, return g1\n",
    "    \"\"\"\n",
    "    #return g1\n",
    "    #template from Game\n",
    "    if g1.min_age <= g2.min_age:\n",
    "        return g1\n",
    "    else:\n",
    "        return g2\n",
    "\n",
    "start_testing()\n",
    "expect(appropriate_for_younger(G_GRAB_YOUR_BREAKFAST, G_CARCASSONNE),\n",
    "      G_GRAB_YOUR_BREAKFAST)\n",
    "expect(appropriate_for_younger(G_CARCASSONNE, G_GRAB_YOUR_BREAKFAST),\n",
    "      G_GRAB_YOUR_BREAKFAST)\n",
    "expect(appropriate_for_younger(G_CARCASSONNE, G_MYSTERIUM),\n",
    "      G_CARCASSONNE)\n",
    "expect(appropriate_for_younger(G_CARCASSONNE,\n",
    "                              Game('test game', 'me', 1, 6, 7)),\n",
    "      G_CARCASSONNE)\n",
    "summary()"
   ]
  },
  {
   "cell_type": "markdown",
   "metadata": {},
   "source": [
    "### Try this at home: TV Shows\n",
    "\n",
    "**Problem:** You're designing software for a provider of TV streaming. Design a data definition for a TV show. (This provider does not have movies yet.) You need to record the title of the TV show, the number of episodes available, the average time of the episodes in minutes, the year it premiered, and if it is currently active or not."
   ]
  },
  {
   "cell_type": "code",
   "execution_count": null,
   "metadata": {},
   "outputs": [],
   "source": [
    "# Solution here\n"
   ]
  },
  {
   "cell_type": "markdown",
   "metadata": {},
   "source": [
    "**Problem:** Design a function to determine if it is possible to watch all available episodes of a TV show... without having the provider ask if you are still awake. Assume it takes 5 hours before the provider checks on you."
   ]
  },
  {
   "cell_type": "code",
   "execution_count": null,
   "metadata": {},
   "outputs": [],
   "source": [
    "# Solution here\n"
   ]
  },
  {
   "cell_type": "markdown",
   "metadata": {},
   "source": [
    "### Example, Artist: Compound or Enumeration?\n",
    "\n",
    "Our artist question asks you to represent \"an artist's family name,\n",
    "given name, birthplace, and art form (e.g., oil painting, sculpture,\n",
    "dance)\".\n",
    "\n",
    "What does one value of this type look like? Let's use [Georgia O'Keeffe](https://en.wikipedia.org/wiki/Georgia_O'Keeffe)\n",
    "(the painter, born in Wisconsin) as our example. We'll try solving the\n",
    "problem first with a compound and then with an enumeration and then\n",
    "try to represent O'Keeffe."
   ]
  },
  {
   "cell_type": "code",
   "execution_count": null,
   "metadata": {},
   "outputs": [],
   "source": [
    "# Version 1: compound\n",
    "from typing import NamedTuple\n",
    "\n",
    "Artist = NamedTuple('Artist', [('family_name', str),\n",
    "                               ('given_name', str),\n",
    "                               ('birthplace', str),\n",
    "                               ('art_form', str)])\n",
    "# interp. an artist with their family name, given name, place of birth,\n",
    "#         and the art form they were best known for.\n",
    "A_MONET = Artist('Monet', 'Claude', 'Paris', 'pastels')\n",
    "A_NAOMI = Artist('Wolfman', 'Naomi', 'Vancouver', 'line drawings')\n",
    "\n",
    "@typecheck\n",
    "# template based on compound (4 fields)\n",
    "def fn_for_artist(a: Artist) -> ...:\n",
    "    return ...(a.family_name,\n",
    "               a.given_name,\n",
    "               a.birthplace,\n",
    "               a.art_form)\n",
    "\n",
    "# How do we represent Georgia O'Keeffe?\n",
    "georgia = ..."
   ]
  },
  {
   "cell_type": "code",
   "execution_count": null,
   "metadata": {},
   "outputs": [],
   "source": [
    "# Version 2: enumeration\n",
    "from enum import Enum\n",
    "\n",
    "Artist = Enum('Artist', ['family_name', 'given_name', 'birthplace', 'art_form'])\n",
    "# interp. an aspect of an artist, one of their family name, their given name\n",
    "# their birthplace, or their art form.\n",
    "# Examples are redundant for enumerations.\n",
    "\n",
    "\n",
    "# template based on enumeration (4 cases)\n",
    "@typecheck\n",
    "def fn_for_artist(a: Artist) -> ...:\n",
    "    if a == Artist.family_name:\n",
    "        return ...\n",
    "    elif a == Artist.given_name:\n",
    "        return ...\n",
    "    elif a == Artist.birthplace:\n",
    "        return ...\n",
    "    elif a == Artist.art_form:\n",
    "        return ...\n",
    "\n",
    "# How do we represent Georgia O'Keeffe?\n",
    "georgia = ..."
   ]
  },
  {
   "cell_type": "code",
   "execution_count": null,
   "metadata": {},
   "outputs": [],
   "source": [
    "# Version 3: simple atomic\n",
    "\n",
    "Artist = str\n",
    "# interp. an artist with their family name then given name followed by \"born in\"\n",
    "# and their birthplace and \"known for\" and their art form.\n",
    "A_MONET = 'Monet Claude born in Paris known for pastels'\n",
    "A_NAOMI = 'Wolfman Naomi born in Vancouver known for line drawings'\n",
    "\n",
    "@typecheck\n",
    "# template based on atomic non-distinct\n",
    "def fn_for_artist(a: Artist) -> ...:\n",
    "    return ...(a)\n",
    "\n",
    "# How do we represent Georgia O'Keeffe?\n",
    "georgia = ..."
   ]
  }
 ],
 "metadata": {
  "kernelspec": {
   "display_name": "Python 3 (ipykernel)",
   "language": "python",
   "name": "python3"
  },
  "language_info": {
   "codemirror_mode": {
    "name": "ipython",
    "version": 3
   },
   "file_extension": ".py",
   "mimetype": "text/x-python",
   "name": "python",
   "nbconvert_exporter": "python",
   "pygments_lexer": "ipython3",
   "version": "3.9.7"
  }
 },
 "nbformat": 4,
 "nbformat_minor": 4
}
