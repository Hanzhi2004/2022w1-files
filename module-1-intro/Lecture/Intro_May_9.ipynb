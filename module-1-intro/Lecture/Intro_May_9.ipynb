{
 "cells": [
  {
   "cell_type": "code",
   "execution_count": 17,
   "id": "24738f1c-c6c2-4fd4-a795-6a7c6d29c693",
   "metadata": {},
   "outputs": [
    {
     "name": "stderr",
     "output_type": "stream",
     "text": [
      "/opt/conda/lib/python3.9/site-packages/_distutils_hack/__init__.py:36: UserWarning: Setuptools is replacing distutils.\n",
      "  warnings.warn(\"Setuptools is replacing distutils.\")\n"
     ]
    }
   ],
   "source": [
    "# You must run this cell once before you run any of the other cells in this file\n",
    "\n",
    "# Needed (once per notebook) to enable incredible cs103 powers!!\n",
    "from cs103 import * \n",
    "\n",
    "# This indicates we are going to use some code from the date_fact.ipynb file\n",
    "from ipynb.fs.full.date_fact import *\n",
    "\n"
   ]
  },
  {
   "cell_type": "code",
   "execution_count": 18,
   "id": "7e1bfec4-fce0-4107-9290-6147b0a921e1",
   "metadata": {},
   "outputs": [],
   "source": [
    "def make_greeting(name):\n",
    "    return_value = \"Hi, \" + name + \". \"\n",
    "    return return_value"
   ]
  },
  {
   "cell_type": "code",
   "execution_count": 19,
   "id": "f4fe045a",
   "metadata": {},
   "outputs": [
    {
     "data": {
      "text/plain": [
       "'Hi, Meghan. Hi, Laura. '"
      ]
     },
     "execution_count": 19,
     "metadata": {},
     "output_type": "execute_result"
    }
   ],
   "source": [
    "greet_both = make_greeting(\"Meghan\") + make_greeting(\"Laura\")\n",
    "greet_both"
   ]
  },
  {
   "cell_type": "markdown",
   "id": "037147a1-f8cf-4461-bb74-5eecfbc84060",
   "metadata": {},
   "source": [
    "# The Date Fact API\n",
    "\n",
    "Let's check some fun facts that happened on a date. We will use the the API http://numbersapi.com/. Think of an API a way for us to communicate with another computer to get the information we need. \n",
    "\n",
    "The code inside the file `date_fact.py` gives us the following functions:\n",
    "\n",
    "- `get_date_fact(month: int, day: int) -> str`\n",
    "\n",
    "\n",
    "- `get_number_fact(number: int) -> str`\n",
    "\n",
    "\n",
    "- `get_year_fact(year: int) -> str`\n",
    "\n",
    "\n",
    "\n",
    "\n",
    "\n",
    "\n",
    "\n",
    "\n",
    "\n"
   ]
  },
  {
   "cell_type": "code",
   "execution_count": 23,
   "id": "670987f4-ebe3-45a2-934b-3ada9bea0077",
   "metadata": {},
   "outputs": [
    {
     "data": {
      "text/plain": [
       "'Costa Rica has pledged to become a completely carbon-neutral nation by this date'"
      ]
     },
     "execution_count": 23,
     "metadata": {},
     "output_type": "execute_result"
    }
   ],
   "source": [
    "# Get some trivia from the year you were born!\n",
    "\n",
    "get_year_fact(2021)"
   ]
  },
  {
   "cell_type": "markdown",
   "id": "dba275df-c03e-49dc-8d5b-7f2d6a458134",
   "metadata": {},
   "source": [
    "# Changing Things Up\n",
    "What happens if we want to find facts from another year?\n",
    "\n",
    "Is there an easier way to change the value of the year without having to remember all the places the year appeared in?"
   ]
  },
  {
   "cell_type": "code",
   "execution_count": 32,
   "id": "e29424ae-0003-428e-a598-65bc11228f93",
   "metadata": {},
   "outputs": [
    {
     "data": {
      "text/plain": [
       "'In the year 2011: NASA announces that its Mars Reconnaissance Orbiter has captured photographic evidence of possible liquid water on Mars during warm seasons'"
      ]
     },
     "execution_count": 32,
     "metadata": {},
     "output_type": "execute_result"
    }
   ],
   "source": [
    "def get_fact_for_year(year):\n",
    "    return \"In the year \" + str(year) + \": \" + get_year_fact(year)\n",
    "\n",
    "get_fact_for_year(2011)\n",
    "# get_fact_for_year(2022)"
   ]
  },
  {
   "cell_type": "markdown",
   "id": "985f2d50-84e8-4305-a5c3-4f8c9968df0c",
   "metadata": {},
   "source": [
    "# What Happened on Your Date of Birth?\n",
    "Write some code to find an event that happened on your birth date. Follow the same steps as before.\n",
    "\n",
    "1. Take a look at the names of the functions. Out of the three functions listed above, which one should we use?\n",
    "2. Take a look at the signature. What kind of information is the function asking for? What kind of data type is it?\n",
    "3. Try to call the function!"
   ]
  },
  {
   "cell_type": "code",
   "execution_count": null,
   "id": "db4ee958-a6d6-4d69-9ef6-19b5f2bdad0e",
   "metadata": {},
   "outputs": [],
   "source": []
  },
  {
   "cell_type": "markdown",
   "id": "5a260c89-b125-4452-9021-12df9377a93d",
   "metadata": {},
   "source": [
    "## TODO\n",
    "\n",
    "- activate your students.cs.ubc.ca email address by logging in at [https://www.cs.ubc.ca/getacct/](https://www.cs.ubc.ca/getacct) \n",
    "- add your CWL@students.cs.ubc.ca email address to your Piazza account\n",
    "- explore on Canvas!\n",
    "- read the syllabus + do the syllabus quiz\n",
    "- complete the Setup Tutorial by the end of Tuesday (there are office hours where you can ask for help -see canvas)\n",
    "- complete the Module 1 Pre-Class Reading and Pre-Lecture Assignment, and Module 2 Pre-Class Reading and Pre-Lecture Assignment (all deadlines are visible on canvas, but for these ones I'll tell you they are due tomorrow (Tuesday) at 10pm!"
   ]
  },
  {
   "cell_type": "code",
   "execution_count": null,
   "id": "ba7aefbd-4ad1-4e7c-9dd0-44eff6c16ea2",
   "metadata": {},
   "outputs": [],
   "source": []
  }
 ],
 "metadata": {
  "kernelspec": {
   "display_name": "Python 3 (ipykernel)",
   "language": "python",
   "name": "python3"
  },
  "language_info": {
   "codemirror_mode": {
    "name": "ipython",
    "version": 3
   },
   "file_extension": ".py",
   "mimetype": "text/x-python",
   "name": "python",
   "nbconvert_exporter": "python",
   "pygments_lexer": "ipython3",
   "version": "3.9.7"
  }
 },
 "nbformat": 4,
 "nbformat_minor": 5
}
