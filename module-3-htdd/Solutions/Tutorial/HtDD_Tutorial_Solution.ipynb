{
 "cells": [
  {
   "cell_type": "code",
   "execution_count": null,
   "metadata": {},
   "outputs": [],
   "source": [
    "from cs103 import *\n",
    "from enum import Enum"
   ]
  },
  {
   "cell_type": "markdown",
   "metadata": {},
   "source": [
    "## Tutorial Solution - HtDD"
   ]
  },
  {
   "cell_type": "markdown",
   "metadata": {},
   "source": [
    "### Problem 1a:\n",
    "\n",
    "Design a data definition to represent one of the available COVID-19 vaccines (as of December 2021). Possible options are: Pfizer-BioNTech, Moderna, Johnson & Johnson’s, Astrazeneca, Sinovac, Sputnik V.\n",
    "\n",
    "Be sure to follow all steps of the HtDD recipe."
   ]
  },
  {
   "cell_type": "code",
   "execution_count": null,
   "metadata": {},
   "outputs": [],
   "source": [
    "Vaccine = Enum('Vaccine', ['PF', 'MO', 'JJ', 'AZ', 'SI', 'SV'])\n",
    "# interp. one of the available COVID-19 vaccines (as of December 2021), where \n",
    "# PF stands for Pfizer-BioNTech, MO for Moderna, JJ for Johnson & Johnson’s, \n",
    "# AZ for Astrazeneca, SI for Sinovac, and SV for Sputnik V.\n",
    "\n",
    "# examples are redundant for enumerations\n",
    "\n",
    "# template based on enumeration (6 cases) and atomic distinct (6 times)\n",
    "@typecheck\n",
    "def fn_for_vaccine(v: Vaccine) -> ...:\n",
    "    if v == Vaccine.PF:\n",
    "        return ...\n",
    "    elif v == Vaccine.MO:\n",
    "        return ...\n",
    "    elif v == Vaccine.JJ:\n",
    "        return ...\n",
    "    elif v == Vaccine.AZ:\n",
    "        return ...\n",
    "    elif v == Vaccine.SI:\n",
    "        return ...\n",
    "    elif v == Vaccine.SV:\n",
    "        return ..."
   ]
  },
  {
   "cell_type": "markdown",
   "metadata": {},
   "source": [
    "### Problem 1b:\n",
    "\n",
    "Design a function that takes a vaccine (from Problem 1a) and returns true if the vaccine is one of those accepted by the Government of Canada for the purpose of travel to and within Canada. As of December 2021, and for the purpose of this exercise, all vaccines except Sputnik V are accepted.\n",
    "\n",
    "Be sure to follow all steps of the HtDF recipe."
   ]
  },
  {
   "cell_type": "code",
   "execution_count": null,
   "metadata": {},
   "outputs": [],
   "source": [
    "@typecheck\n",
    "def is_accepted_canada(v: Vaccine) -> bool:\n",
    "    \"\"\"\n",
    "    returns True true if the vaccine is one of those accepted by the Government of \n",
    "    Canada for the purpose of travel to and within Canada, and False otherwise\n",
    "    \"\"\"\n",
    "    #return False #stub\n",
    "    # template from Vaccine\n",
    "    if v == Vaccine.PF:\n",
    "        return True\n",
    "    elif v == Vaccine.MO:\n",
    "        return True\n",
    "    elif v == Vaccine.JJ:\n",
    "        return True\n",
    "    elif v == Vaccine.AZ:\n",
    "        return True\n",
    "    elif v == Vaccine.SI:\n",
    "        return True\n",
    "    elif v == Vaccine.SV:\n",
    "        return False\n",
    "\n",
    "start_testing()\n",
    "\n",
    "expect(is_accepted_canada(Vaccine.PF), True)\n",
    "expect(is_accepted_canada(Vaccine.MO), True)\n",
    "expect(is_accepted_canada(Vaccine.JJ), True)\n",
    "expect(is_accepted_canada(Vaccine.AZ), True)\n",
    "expect(is_accepted_canada(Vaccine.SI), True)\n",
    "expect(is_accepted_canada(Vaccine.SV), False)\n",
    "\n",
    "summary()"
   ]
  },
  {
   "cell_type": "markdown",
   "metadata": {},
   "source": [
    "### Problem 2a:\n",
    "\n",
    "Design a data definition to represent the number of vaccine doses received by a person. Specifically, a person can have received from 0 to 4 doses. It is also possible for their vaccination status to be unknown. (That is, the vaccine doses can be a normal integer value or a special value indicating that it is unsure whether or not a person is vaccinated).\n",
    "\n",
    "Be sure to follow all steps of the HtDD recipe."
   ]
  },
  {
   "cell_type": "code",
   "execution_count": null,
   "metadata": {},
   "outputs": [],
   "source": [
    "from typing import Optional\n",
    "\n",
    "VaccineDoses = Optional[int]  # in range[0, 4]\n",
    "# interp. the number of vaccine doses received by a person, from 0 to a maximum of 3.\n",
    "# A value of None indicates that the person's vaccination status is unknown.\n",
    "VC_UNVAX = 0\n",
    "VC_WEAK = 1\n",
    "VC_STRONG = 4\n",
    "VC_UNKNOWN = None\n",
    "\n",
    "# template based on optional\n",
    "@typecheck\n",
    "def fn_for_vaccine_doses(vc: VaccineDoses) -> ...:\n",
    "    if vc is None:\n",
    "        return ...\n",
    "    else:\n",
    "        return ...(vc)"
   ]
  },
  {
   "cell_type": "markdown",
   "metadata": {},
   "source": [
    "### Problem 2b:\n",
    "Design a function that takes a number of vaccine doses (from Problem 2a) and returns True if the person is due for a booster shot, and False otherwise. For the purpose of this exercise, a person is due for a booster shot if they have received only 2 doses or fewer, or if their vaccination status is unknown.\n",
    "\n",
    "Be sure to follow all steps of the HtDF recipe."
   ]
  },
  {
   "cell_type": "code",
   "execution_count": null,
   "metadata": {},
   "outputs": [],
   "source": [
    "@typecheck\n",
    "def booster_needed(vc: VaccineDoses) -> bool:\n",
    "    \"\"\"\n",
    "    returns True if the number of doses is 2 or less or unknown, False otherwise.\n",
    "    \"\"\"\n",
    "    if vc is None:\n",
    "        return True\n",
    "    else:\n",
    "        return vc <= 2\n",
    "    \n",
    "start_testing()\n",
    "\n",
    "expect(booster_needed(0), True)\n",
    "expect(booster_needed(2), True)\n",
    "expect(booster_needed(None), True)\n",
    "expect(booster_needed(3), False)\n",
    "\n",
    "summary()\n",
    "\n"
   ]
  },
  {
   "cell_type": "code",
   "execution_count": null,
   "metadata": {},
   "outputs": [],
   "source": []
  }
 ],
 "metadata": {
  "kernelspec": {
   "display_name": "Python 3",
   "language": "python",
   "name": "python3"
  },
  "language_info": {
   "codemirror_mode": {
    "name": "ipython",
    "version": 3
   },
   "file_extension": ".py",
   "mimetype": "text/x-python",
   "name": "python",
   "nbconvert_exporter": "python",
   "pygments_lexer": "ipython3",
   "version": "3.8.8"
  }
 },
 "nbformat": 4,
 "nbformat_minor": 2
}
